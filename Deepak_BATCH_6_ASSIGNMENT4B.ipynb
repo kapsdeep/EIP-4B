{
  "nbformat": 4,
  "nbformat_minor": 0,
  "metadata": {
    "colab": {
      "name": "Deepak_BATCH_6_ASSIGNMENT4B.ipynb",
      "version": "0.3.2",
      "views": {},
      "default_view": {},
      "provenance": [
        {
          "file_id": "17lHEclscRagYqkbSDNxZd4tURCKncWca",
          "timestamp": 1527519334133
        },
        {
          "file_id": "1tmQk6pocKVIfjmN1YmV7fQUCoLqvbTHN",
          "timestamp": 1527513304675
        },
        {
          "file_id": "1nKD5sp68DV5ln0Px65uL_41o0wKft-pR",
          "timestamp": 1527461384973
        },
        {
          "file_id": "1P0Jbbq140Tj0lZ3PnGmpsSwEmAkeNOZ6",
          "timestamp": 1527429690814
        },
        {
          "file_id": "1ZLO79qXPjjMIln2Fvea5pwM-k4ap73Fo",
          "timestamp": 1527411737653
        },
        {
          "file_id": "1yviKIuQfYmSOtgF8SMcQJT7W3zl3dS6q",
          "timestamp": 1527401599325
        },
        {
          "file_id": "1pFn0wvWOKj93A4_-pjMxsxR96VDyN-NF",
          "timestamp": 1527391338480
        },
        {
          "file_id": "1_1kwmwgL7g94jI6BEtcgm-D2_AFk0zxK",
          "timestamp": 1519101209834
        }
      ]
    },
    "kernelspec": {
      "name": "python3",
      "display_name": "Python 3"
    },
    "accelerator": "GPU"
  },
  "cells": [
    {
      "metadata": {
        "id": "aGWeYqP8ogXD",
        "colab_type": "text"
      },
      "cell_type": "markdown",
      "source": [
        "# Problem statement\n",
        "#### (Initial)Deep Network(56) trained on small dataset(60k) resulted in underfitting & low training accuracy(~76%)\n",
        "* _training speed: good_\n",
        "* _training accuracy: low_\n",
        "* _dataset: small (60k images, 10 classes)_\n",
        "* _layers =56_\n",
        "\n",
        "## Strategy to beat challenge\n",
        "\n",
        "| Plan        | AIs          | Comments  |\n",
        "  | ------------- |:-------------:| -----:|\n",
        "  | Revise notes from session#1-#4 & note important points      | Feature extraction, Normalization, Channels, Regularization, Data Augmentation, Hyperparameter tuning, Dropout, Optimizers  | Try in parallel tracks |\n",
        "  | Revise hyperparamter tuning notes from coursera      | underfit=>shallow n/w, more data, low train_acc=>deep n/w, more data, different arch      |   tackle separately |\n",
        "  | Keep an on MLBLR discussion forum | compression, image resize, start with simpler n/w      |    didn't understand compression, try img resize in last |\n",
        "| Start with multiple tracks to imrpove train/val accuracy | 1. Data augmentation, 2. Hyperparamter tuning, 3. Deep n/w 4. Network Arch     |    Merge best of individual tracks |\n",
        "\n",
        "## Solution summary\n",
        "* Deep network:  Itdid hit train_acc upwards of 87% but was too slow to train (>8hrs) hence not the best solution\n",
        "* Data Augmentation: Started with max augmentation methods but was hit with & network ended val_acc=0.18@epoch#50 :( but eventually figured out that more augmentation causes regularization & all augmented images might not be helpful hence figured out min augmentation which did show improvement so combined it with other Network Arch track\n",
        "* Network Arch: shuffling was a great boost & combined with l=2 (calculated from receptive field) was the major breakthrough pushing the network accuracy upwards of 88% in just 2.5hrs !! Reduced layers allowed to set #filters=128 & batch_size=64....bingo !!! combined with data augmentation....val_acc=.9032% :) time taken(sec): 7290.32763671875\n",
        "\n",
        "_Also hit another model with early stopping at epoch#41 with validation accuracy of .9028% but decided to submit below one with 0.9032 at epoch50_\n",
        "\n",
        "## Track#1 - Network Arch\n",
        "### trial#1\n",
        "* compression = 0.7\n",
        "* batch_size = 32\n",
        "* shuffle = True\n",
        "\n",
        "#### Analysis\n",
        "shuffle=true makes network learn faster\n",
        "\n",
        "### trial#2\n",
        "* compression = 1\n",
        "* batch_size = 32\n",
        "* shuffle = True\n",
        "\n",
        "#### Results\n",
        "* Epoch 18/20 50000/50000 [==============================] - 384s 8ms/step - loss: 0.4003 - acc: 0.8612 - val_loss: 0.5075 - val_acc: 0.8409\n",
        "\n",
        "#### Analysis \n",
        "Network learning well\n",
        "\n",
        "### trial#3\n",
        "_adding time & graphs_\n",
        "* compression = 1\n",
        "* batch_size = 32\n",
        "* shuffle = True\n",
        "* l = 12\n",
        "* epoch =50\n",
        "\n",
        "#### Results\n",
        "* Epoch 10/50 - loss: 0.5427 - acc: 0.8106 - val_loss: 0.6204 - val_acc: 0.7964\n",
        "* Epoch 20/50 - loss: 0.3767 - acc: 0.8687 - val_loss: 0.5512 - val_acc: 0.8264\n",
        "* Epoch 30/50 - loss: 0.3009 - acc: 0.8950 - val_loss: 0.5790 - val_acc: 0.8364\n",
        "* Epoch 40/50 - loss: 0.2513 - acc: 0.9112 - val_loss: 0.6085 - val_acc: 0.8302\n",
        "* Epoch 50/50 - loss: 0.2154 - acc: 0.9232 - val_loss: 0.4695 - val_acc: 0.8721\n",
        "\n",
        "#### Analysis\n",
        "* network training slowed down drastically from epoch#30 to #50\n",
        "* slowed training rate also caused n/w to overfit a bit\n",
        "\n",
        "### trial#4 \n",
        "* enable bias in both dense & transition blocks and increase dropout to address any overfitting at later stages\n",
        "* increase filters to allow n/w to learn more features without increasing n/w density\n",
        "* batch_size = 32\n",
        "num_classes = 10\n",
        "epochs = 50\n",
        "l = 40\n",
        "num_filter = 16\n",
        "compression = 1\n",
        "dropout_rate = 0.25\n",
        "\n",
        "#### Results\n",
        "\n",
        "* Epoch 00010: val_acc improved from -inf to 0.76120, saving model to weights_best.hdf5\n",
        "* Epoch 00020: val_acc improved from 0.76120 to 0.85190, saving model to weights_best.hdf5\n",
        "* Epoch 00030: val_acc improved from 0.85190 to 0.85380, saving model to weights_best.hdf5\n",
        "* Epoch 00040: val_acc did not improve from 0.85380\n",
        "* Epoch 00050: val_acc improved from 0.85380 to 0.87670, saving model to weights_best.hdf5\n",
        "* Epoch 20/50 50000/50000 [===] - 450s 9ms/step - loss: 0.2982 - acc: 0.8952 - val_loss: 0.4824 - val_acc: 0.8519\n",
        "* Epoch 30/50 50000/50000 [===] - 450s 9ms/step - loss: 0.2170 - acc: 0.9235 - val_loss: 0.5197 - val_acc: 0.8538\n",
        "* Epoch 40/50 50000/50000 [===] - 450s 9ms/step - loss: 0.1693 - acc: 0.9393 - val_loss: 0.6405 - val_acc: 0.8387\n",
        "* Epoch 50/50 50000/50000 [===] - 452s 9ms/step - loss: 0.1394 - acc: 0.9510 - val_loss: 0.4760 - val_acc: 0.8767\n",
        "\n",
        "\n",
        "#### Analysis\n",
        "* Best training accuracy - 0.9510 (epoch#50: traninig accuracy 0.9232@trial#3 => 0.9510@trial#4)\n",
        "* Final validation accuracy improved marginally 0.8721=> 87.67\n",
        "* After epoch#20, validation accuracy started lagging behind indicating overfitting\n",
        "_Mistakenly dropout was set to 0.2, correcting to 0.25_\n",
        "\n",
        "### trial#5\n",
        "Objective: Regularize network AND maintain/push train_accuracy\n",
        "* maintaining/pushing train_accuracy: l=12, channels=20\n",
        "* Regularize to address overfit: data augmentation, bias, dropout\n",
        "* data augmentation: width_shift_range=0.2, height_shift_range=0.2, horizontal_flip=True,\n",
        "* bias: True for all (dense, transition, FirstConv)\n",
        "* dropout: 0\n",
        "\n",
        "#### Results\n",
        "* Epoch 00010: val_acc improved from -inf to 0.81160, saving model to weights_best.hdf5\n",
        "* Epoch 00020: val_acc improved from 0.81160 to 0.84130, saving model to weights_best.hdf5\n",
        "* Epoch 00030: val_acc improved from 0.84130 to 0.88700, saving model to weights_best.hdf5\n",
        "* Epoch 00040: val_acc improved from 0.88700 to 0.89210, saving model to weights_best.hdf5\n",
        "* Epoch 00050: val_acc improved from 0.89210 to 0.89950, saving model to weights_best.hdf5\n",
        "\n",
        "* Epoch 10/50 1562/1562 [===] - 491s 314ms/step - loss: 0.4538 - acc: 0.8432 - val_loss: 0.5676 - val_acc: 0.8116\n",
        "* Epoch 20/50 1562/1562 [===] - 490s 314ms/step - loss: 0.2871 - acc: 0.9002 - val_loss: 0.4959 - val_acc: 0.8413\n",
        "* Epoch 30/50 1562/1562 [===] - 490s 314ms/step - loss: 0.2045 - acc: 0.9301 - val_loss: 0.3672 - val_acc: 0.8870\n",
        "* Epoch 40/50 1562/1562 [===] - 490s 314ms/step - loss: 0.1538 - acc: 0.9450 - val_loss: 0.3773 - val_acc: 0.8921\n",
        "* Epoch 50/50 1562/1562 [===] - 494s 316ms/step - loss: 0.1269 - acc: 0.9547 - val_loss: 0.3748 - val_acc: 0.8995\n",
        "\n",
        "#### Analysis\n",
        "* dropout=0 combined with better data augmentation did help regularization\n",
        "* network did marginally better on training accuracy\n",
        "\n",
        "### trial#7\n",
        "Receptive field concept to arrive #layers - https://medium.com/mlreview/a-guide-to-receptive-field-arithmetic-for-convolutional-neural-networks-e0f514068807 \n",
        "```python\n",
        "import math\n",
        "import numpy as np\n",
        "\n",
        "convnet=np.array([[2,1,0],[3,1,0],[5,1,2],[3,2,0],[3,1,1],[3,1,1],[3,1,1],[3,2,0],[6,1,0], [1, 1, 0]])\n",
        "layer_names = ['conv1','pool1','conv2','pool2','conv3','conv4','conv5','pool5','fc6-conv', 'fc7-conv']\n",
        "imsize = 32\n",
        "\n",
        "def calc_op_param(n, r, j)\n",
        "  for x in range(convnet.shape[0]):\n",
        "    n=((n-(convnet[x][0])+(2*convnet[x][2]))/convnet[x][1])+1\n",
        "    r=r+((convnet[x][0])-1)*j\n",
        "    j=j*convnet[x][1]\n",
        "    print('layer#',x,'n_out:',n,'r_out:',r,'j_out:',j)\n",
        "    \n",
        "# input layer has following parameters\n",
        "n_in=imsize\n",
        "r_in=1\n",
        "j_in=1\n",
        "start_in=0.5\n",
        "print(convnet.shape[0])\n",
        "print(convnet[0][0])\n",
        "\n",
        "calc_op_param(n_in, r_in, j_in)\n",
        "```\n",
        "\n",
        "### trial#7.4\n",
        "* trial#7 workedbest hence trying same with batch=64\n",
        "\n",
        "### trial#7.7\n",
        "try with dropout=0.1\n",
        "\n",
        "## Track#2 - Data Augmentation\n",
        "### trial#1\n",
        "*   imports: time, ModelCheckpoint, ImageDatagenerator\n",
        "*   No change in hyperparameters: \n",
        "            batch_size = 128\n",
        "            num_classes = 10\n",
        "            epochs = 50\n",
        "            l = 40\n",
        "            num_filter = 12\n",
        "            compression = 0.5\n",
        "            dropout_rate = 0.2\n",
        "* No change in dense/transition/output block\n",
        "* Added data augmentation\n",
        "\n",
        "#### Results\n",
        "* Epoch 00010: val_acc improved from -inf to 0.14490, saving model to weights_best.hdf5\n",
        "* Epoch 00020: val_acc improved from 0.14490 to 0.17020, saving model to weights_best.hdf5\n",
        "* Epoch 00030: val_acc did not improve from 0.17020\n",
        "* Epoch 00040: val_acc did not improve from 0.17020\n",
        "* Epoch 00050: val_acc improved from 0.17020 to 0.18930, saving model to weights_best.hdf5\n",
        "\n",
        "#### Training\n",
        "* Epoch 50/50\n",
        "321/390 [==============================] - 145s 371ms/step - loss: 0.7760 - acc: 0.7243 - val_loss: 12.0266 - val_acc: 0.1893\n",
        "\n",
        "#### Analysis\n",
        "* overfitting hence increase regularization\n",
        "\n",
        "### trial#2\n",
        "* set bias True\n",
        "* increase dropout from 0.2 => 0.5\n",
        "\n",
        "Results\n",
        "* no improvements\n",
        "\n",
        "### trial#3\n",
        "* try reduced data augmentation\n",
        "\n",
        "Results\n",
        "* Epoch 00010: val_acc improved from -inf to 0.38430, saving model to weights_best.hdf5\n",
        "* Epoch 00020: val_acc improved from 0.38430 to 0.47110, saving model to weights_best.hdf5\n",
        "\n",
        "Training (interrupted by power off)\n",
        "* Epoch 27/50\n",
        "321/390 [==============================] - 214s 548ms/step - loss: 0.8863 - acc: 0.6832 - val_loss: 1.7246 - val_acc: 0.6014\n",
        "\n",
        "### Analysis\n",
        "Positive improvements from 18%@epoch#50 to 60%@epoch#28 hence lesser augmentation techniques helped.\n",
        "\n",
        "### trial#4\n",
        "* plot history\n",
        "* include start/end time\n",
        "* include hyperparameter tuning from hyperparam-trial#2\n",
        "* decrease dropout: 0.25\n",
        "* compression: 0.5\n",
        "* l=12\n",
        "* batch = 32\n",
        "* shuffle=True\n",
        "* augmentation +rotation, +vertical_flip\n",
        "\n",
        "#### Results\n",
        "\n",
        "#### Analysis\n",
        "Train accuracy is abysmally low indicating underfit\n",
        "\n",
        "### trial#5\n",
        "* decrease dropout: 0.20\n",
        "* compression: 1\n",
        "* l=12\n",
        "* batch = 32\n",
        "* shuffle=True\n",
        "* augmentation +rotation, +vertical_flip\n",
        "\n",
        "#### Results\n",
        "* Epoch 35/35\n",
        " 327/1562  [==============================] - 416s 266ms/step - loss: 0.6746 - acc: 0.7613 - val_loss: 0.7955 - val_acc: 0.7349\n",
        " \n",
        " #### Analysis\n",
        "*  Network train & validation performed well together however training accuracy@76% for epoch#35 is far lower than other networks(with just hyperparameter tuning)\n",
        "* try reducing augmentation methods to help reduce regularization caused by execessive augmentation\n",
        "* try making n/w deeper with either channel or layer\n",
        "\n",
        "### trial#6\n",
        "To make this network train faster as other networks, let's try restricting augmentation to one method \n",
        "* datagen = ImageDataGenerator(\n",
        "    #featurewise_center=False,\n",
        "    #featurewise_std_normalization=False,\n",
        "    #rotation_range=20,\n",
        "    #width_shift_range=0.2,\n",
        "    #height_shift_range=0.2,\n",
        "    horizontal_flip=True,\n",
        "    #vertical_flip=False)\n",
        "* batch_size = 32\n",
        "num_classes = 10\n",
        "epochs = 50\n",
        "l = 40\n",
        "num_filter = 12\n",
        "compression = 1\n",
        "dropout_rate = 0.25\n",
        "* remove bias from transition block & keep in dense block\n",
        "\n",
        "#### Results\n",
        "* Epoch 00010: val_acc improved from -inf to 0.71670, saving model to weights_best.hdf5\n",
        "* Epoch 00020: val_acc improved from 0.71670 to 0.78560, saving model to weights_best.hdf5\n",
        "* Epoch 00030: val_acc improved from 0.78560 to 0.82150, saving model to weights_best.hdf5\n",
        "* Epoch 20/50 [==============================] - 377s 242ms/step - loss: 0.4676 - acc: 0.8373 - val_loss: 0.6929 - val_acc: 0.7856\n",
        "* Epoch 30/50 [==============================] - 378s 242ms/step - loss: 0.4008 - acc: 0.8615 - val_loss: 0.5902 - val_acc: 0.8215\n",
        "* Epoch 39/50 [==============================] - 377s 242ms/step - loss: 0.3541 - acc: 0.8771 - val_loss: 0.5688 - val_acc: 0.8272\n",
        "\n",
        "#### Analysis\n",
        "* changes from trail#6 helped train the network faster - restrict data augmentation to \"horizontal flip\", selective bias, \n",
        "\n",
        "#### trial#7\n",
        "Objective: achieve training accuracy > 97%\n",
        "* try increasing channels to 16 (taking inspiration from hyperparamter tuning n/w)\n",
        "\n",
        "## Track#3 - hyperparameter tuning\n",
        "### trail#1\n",
        "* dropout = 0.5\n",
        "* compression = 0.3\n",
        "* l =12\n",
        "\n",
        "#### Results\n",
        "* Epoch 00010: val_acc improved from -inf to 0.35480, saving model to weights_best.hdf5\n",
        "* Epoch 00020: val_acc improved from 0.35480 to 0.54030, saving model to weights_best.hdf5\n",
        "* Epoch 00030: val_acc did not improve from 0.54030\n",
        "* Epoch 00040: val_acc improved from 0.54030 to 0.54440, saving model to weights_best.hdf5\n",
        "* Epoch 00050: val_acc did not improve from 0.54440\n",
        "\n",
        "* Epoch 50/50 [==============================] - 104s 2ms/step - loss: 1.1760 - acc: 0.5706 - val_loss: 2.1455 - val_acc: 0.4609\n",
        "\n",
        "#### Analysis\n",
        "train & test accuracy both low indicating \"underfitting\"\n",
        "\n",
        "\n",
        "### trial#2\n",
        "* decrease dropout: 0.25\n",
        "* restore compression: 0.5\n",
        "* increase layers: 16\n",
        "* batch_size: 64\n",
        "\n",
        "#### Results\n",
        "* Epoch 00010: val_acc improved from -inf to 0.69480, saving model to weights_best.hdf5\n",
        "* Epoch 00020: val_acc improved from 0.69480 to 0.71180, saving model to weights_best.hdf5\n",
        "* Epoch 1/50\n",
        "43776/50000 [=========================>....] - ETA: 34s - loss: 1.7092 - acc: 0.358050000/50000 [==============================] - 293s 6ms/step - loss: 1.6807 - acc: 0.3695 - val_loss: 2.3834 - val_acc: 0.3543\n",
        "* Epoch 2/50\n",
        "26240/50000 [==============>...............] - ETA: 2:03 - loss: 1.3981 - acc: 0.485450000/50000 [==============================] - 275s 5ms/step - loss: 1.3700 - acc: 0.4975 - val_loss: 1.8666 - val_acc: 0.4557\n",
        "------------------\n",
        "* Epoch 24/50\n",
        "15104/50000 [========>.....................] - ETA: 3:02 - loss: 0.5948 - acc: 0.791450000/50000 [==============================] - 277s 6ms/step - loss: 0.5945 - acc: 0.7923 - val_loss: 0.8123 - val_acc: 0.7575\n",
        "* Epoch 25/50\n",
        "15232/50000 [========>.....................] - ETA: 3:00 - loss: 0.5989 - acc: 0.789550000/50000 [==============================] - 275s 6ms/step - loss: 0.5923 - acc: 0.7930 - val_loss: 0.7605 - val_acc: 0.7583\n",
        "\n",
        "#### Analysis\n",
        "Train & Validation accuracies moved very closely to each other indicating network was learning good.\n",
        "\n",
        "### trial#3\n",
        "* in l=40, batch=32, dropout=0, bias=false network: test_acc was 97% at epoch#25 but network had overfitting issue\n",
        "* taking inspiration from above & retatinig best of current network\n",
        "** l=32\n",
        "** bias= true\n",
        "** batch = 32\n",
        "** droput = 0.25\n",
        "** compression = 0.5\n",
        "* shuffle=True\n",
        "\n",
        "#### Results\n",
        "* Epoch 00010: val_acc improved from 0.50790 to 0.75000, saving model to weights_best.hdf5\n",
        "* Epoch 00020: val_acc did not improve from 0.78440\n",
        "* Epoch 00030: val_acc improved from 0.78440 to 0.82130, saving model to weights_best.hdf5\n",
        "\n",
        "#### Analysis\n",
        "Network slowed down on training: 82%@epoch#20  => 87%@epoch#35\n",
        "\n",
        "### trial#4\n",
        "Objective: Push network to learn faster epoch#20 onwards\n",
        "* compression=1\n",
        "* l=16\n",
        "* filter=16\n",
        "\n",
        "## Session topics/notes\n",
        "\n",
        "Session#1 \n",
        "1. Convolution\n",
        "2. Feature extraction\n",
        "3. Receptive field ( how many layers?)\n",
        "4. Pooling, \n",
        "5. Dimension reductionality, \n",
        "6. 1x1 convolution\n",
        "\n",
        "Session#2 \n",
        "7. Normalization, \n",
        "8. Back Propogation, \n",
        "9. Activations, \n",
        "10. Gradient descent calculation \n",
        "\n",
        "Session#3 \n",
        "11. Concept of Channels, \n",
        "12. Conv Maths,\n",
        "13. Dialated Conv,\n",
        "14. Deconv, \n",
        "15. Depthwise Conv, \n",
        "16. Stride, \n",
        "17. Pooling, \n",
        "18. 1x1, \n",
        "19. Separable Conv, \n",
        "20. Grouped Conv, \n",
        "21. Dropout, \n",
        "22. ResNets \n",
        "\n",
        "Session#4 \n",
        "23. Keras code\n",
        "24. Sequential & Functional models\n",
        "25. LSTM\n",
        "26. Embedding Layers\n",
        "27. Merge Layers\n",
        "28. Loss functions\n",
        "29. Optimizers\n",
        "30. Image Augmentation"
      ]
    },
    {
      "metadata": {
        "id": "K70hAckqg0EA",
        "colab_type": "code",
        "colab": {
          "autoexec": {
            "startup": false,
            "wait_interval": 0
          },
          "base_uri": "https://localhost:8080/",
          "height": 34
        },
        "outputId": "6f3aa62d-86c8-4090-874c-bcf0ef455fb7",
        "executionInfo": {
          "status": "ok",
          "timestamp": 1527544044521,
          "user_tz": -330,
          "elapsed": 4240,
          "user": {
            "displayName": "Lalitha Shree",
            "photoUrl": "//lh5.googleusercontent.com/-TkuX1LjkbFY/AAAAAAAAAAI/AAAAAAAAAAA/dpPeZKr2rTs/s50-c-k-no/photo.jpg",
            "userId": "100965622973345586325"
          }
        }
      },
      "cell_type": "code",
      "source": [
        "# https://keras.io/\n",
        "!pip install -q keras\n",
        "import keras"
      ],
      "execution_count": 0,
      "outputs": [
        {
          "output_type": "stream",
          "text": [
            "Using TensorFlow backend.\n"
          ],
          "name": "stderr"
        }
      ]
    },
    {
      "metadata": {
        "id": "wVIx_KIigxPV",
        "colab_type": "code",
        "colab": {
          "autoexec": {
            "startup": false,
            "wait_interval": 0
          }
        }
      },
      "cell_type": "code",
      "source": [
        "import keras\n",
        "from keras.datasets import cifar10\n",
        "from keras.models import Model, Sequential\n",
        "from keras.layers import Dense, Dropout, Flatten, Input, AveragePooling2D, merge, Activation\n",
        "from keras.layers import Conv2D, MaxPooling2D, BatchNormalization\n",
        "from keras.layers import Concatenate\n",
        "from keras.optimizers import Adam\n",
        "import time\n",
        "from keras.callbacks import ModelCheckpoint\n",
        "from keras.preprocessing.image import ImageDataGenerator\n",
        "import matplotlib.pyplot as plt\n",
        "import numpy"
      ],
      "execution_count": 0,
      "outputs": []
    },
    {
      "metadata": {
        "id": "UNHw6luQg3gc",
        "colab_type": "code",
        "colab": {
          "autoexec": {
            "startup": false,
            "wait_interval": 0
          }
        }
      },
      "cell_type": "code",
      "source": [
        "# this part will prevent tensorflow to allocate all the avaliable GPU Memory\n",
        "# backend\n",
        "import tensorflow as tf\n",
        "from keras import backend as k\n",
        "\n",
        "# Don't pre-allocate memory; allocate as-needed\n",
        "config = tf.ConfigProto()\n",
        "config.gpu_options.allow_growth = True\n",
        "\n",
        "# Create a session with the above options specified.\n",
        "k.tensorflow_backend.set_session(tf.Session(config=config))"
      ],
      "execution_count": 0,
      "outputs": []
    },
    {
      "metadata": {
        "id": "dsO_yGxcg5D8",
        "colab_type": "code",
        "colab": {
          "autoexec": {
            "startup": false,
            "wait_interval": 0
          }
        }
      },
      "cell_type": "code",
      "source": [
        "# Hyperparameters\n",
        "batch_size = 64\n",
        "num_classes = 10\n",
        "epochs = 50\n",
        "l = 2\n",
        "num_filter = 128\n",
        "compression = 1\n",
        "dropout_rate = 0"
      ],
      "execution_count": 0,
      "outputs": []
    },
    {
      "metadata": {
        "id": "mB7o3zu1g6eT",
        "colab_type": "code",
        "colab": {
          "autoexec": {
            "startup": false,
            "wait_interval": 0
          }
        }
      },
      "cell_type": "code",
      "source": [
        "# Load CIFAR10 Data\n",
        "(x_train, y_train), (x_test, y_test) = cifar10.load_data()\n",
        "img_height, img_width, channel = x_train.shape[1],x_train.shape[2],x_train.shape[3]\n",
        "\n",
        "# convert to one hot encoing \n",
        "y_train = keras.utils.to_categorical(y_train, num_classes)\n",
        "y_test = keras.utils.to_categorical(y_test, num_classes)"
      ],
      "execution_count": 0,
      "outputs": []
    },
    {
      "metadata": {
        "id": "ee-sge5Kg7vr",
        "colab_type": "code",
        "colab": {
          "autoexec": {
            "startup": false,
            "wait_interval": 0
          }
        }
      },
      "cell_type": "code",
      "source": [
        "# Dense Block\n",
        "def add_denseblock(input, num_filter = 12, dropout_rate = 0.2):\n",
        "    global compression\n",
        "    temp = input\n",
        "    for _ in range(l):\n",
        "        BatchNorm = BatchNormalization()(temp)\n",
        "        relu = Activation('relu')(BatchNorm)\n",
        "        Conv2D_3_3 = Conv2D(int(num_filter*compression), (3,3), use_bias=True ,padding='same')(relu)\n",
        "        if dropout_rate>0:\n",
        "          Conv2D_3_3 = Dropout(dropout_rate)(Conv2D_3_3)\n",
        "        concat = Concatenate(axis=-1)([temp,Conv2D_3_3])\n",
        "        \n",
        "        temp = concat\n",
        "        \n",
        "    return temp"
      ],
      "execution_count": 0,
      "outputs": []
    },
    {
      "metadata": {
        "id": "OOP6IPsGhBwb",
        "colab_type": "code",
        "colab": {
          "autoexec": {
            "startup": false,
            "wait_interval": 0
          }
        }
      },
      "cell_type": "code",
      "source": [
        "def add_transition(input, num_filter = 12, dropout_rate = 0.2):\n",
        "    global compression\n",
        "    BatchNorm = BatchNormalization()(input)\n",
        "    relu = Activation('relu')(BatchNorm)\n",
        "    Conv2D_BottleNeck = Conv2D(int(num_filter*compression), (1,1), use_bias=True ,padding='same')(relu)\n",
        "    if dropout_rate>0:\n",
        "      Conv2D_BottleNeck = Dropout(dropout_rate)(Conv2D_BottleNeck)\n",
        "    avg = AveragePooling2D(pool_size=(2,2))(Conv2D_BottleNeck)\n",
        "    \n",
        "    return avg"
      ],
      "execution_count": 0,
      "outputs": []
    },
    {
      "metadata": {
        "id": "0RaKFpubhDIC",
        "colab_type": "code",
        "colab": {
          "autoexec": {
            "startup": false,
            "wait_interval": 0
          }
        }
      },
      "cell_type": "code",
      "source": [
        "def output_layer(input):\n",
        "    global compression\n",
        "    BatchNorm = BatchNormalization()(input)\n",
        "    relu = Activation('relu')(BatchNorm)\n",
        "    AvgPooling = AveragePooling2D(pool_size=(2,2))(relu)\n",
        "    flat = Flatten()(AvgPooling)\n",
        "    output = Dense(num_classes, activation='softmax')(flat)\n",
        "    \n",
        "    return output"
      ],
      "execution_count": 0,
      "outputs": []
    },
    {
      "metadata": {
        "id": "anPCpQWhhGb7",
        "colab_type": "code",
        "colab": {
          "autoexec": {
            "startup": false,
            "wait_interval": 0
          }
        }
      },
      "cell_type": "code",
      "source": [
        "num_filter = 128\n",
        "dropout_rate = 0\n",
        "l = 2\n",
        "input = Input(shape=(img_height, img_width, channel,))\n",
        "First_Conv2D = Conv2D(num_filter, (3,3), use_bias=True ,padding='same')(input)\n",
        "\n",
        "First_Block = add_denseblock(First_Conv2D, num_filter, dropout_rate)\n",
        "First_Transition = add_transition(First_Block, num_filter, dropout_rate)\n",
        "\n",
        "Second_Block = add_denseblock(First_Transition, num_filter, dropout_rate)\n",
        "Second_Transition = add_transition(Second_Block, num_filter, dropout_rate)\n",
        "\n",
        "Third_Block = add_denseblock(Second_Transition, num_filter, dropout_rate)\n",
        "Third_Transition = add_transition(Third_Block, num_filter, dropout_rate)\n",
        "\n",
        "Last_Block = add_denseblock(Third_Transition,  num_filter, dropout_rate)\n",
        "output = output_layer(Last_Block)\n"
      ],
      "execution_count": 0,
      "outputs": []
    },
    {
      "metadata": {
        "id": "1kFh7pdxhNtT",
        "colab_type": "code",
        "colab": {
          "autoexec": {
            "startup": false,
            "wait_interval": 0
          },
          "base_uri": "https://localhost:8080/",
          "height": 2006
        },
        "outputId": "3ddfc4fc-603f-4a40-8284-92642d6fbca7",
        "executionInfo": {
          "status": "ok",
          "timestamp": 1527544055312,
          "user_tz": -330,
          "elapsed": 802,
          "user": {
            "displayName": "Lalitha Shree",
            "photoUrl": "//lh5.googleusercontent.com/-TkuX1LjkbFY/AAAAAAAAAAI/AAAAAAAAAAA/dpPeZKr2rTs/s50-c-k-no/photo.jpg",
            "userId": "100965622973345586325"
          }
        }
      },
      "cell_type": "code",
      "source": [
        "model = Model(inputs=[input], outputs=[output])\n",
        "model.summary()"
      ],
      "execution_count": 0,
      "outputs": [
        {
          "output_type": "stream",
          "text": [
            "__________________________________________________________________________________________________\n",
            "Layer (type)                    Output Shape         Param #     Connected to                     \n",
            "==================================================================================================\n",
            "input_1 (InputLayer)            (None, 32, 32, 3)    0                                            \n",
            "__________________________________________________________________________________________________\n",
            "conv2d_1 (Conv2D)               (None, 32, 32, 128)  3584        input_1[0][0]                    \n",
            "__________________________________________________________________________________________________\n",
            "batch_normalization_1 (BatchNor (None, 32, 32, 128)  512         conv2d_1[0][0]                   \n",
            "__________________________________________________________________________________________________\n",
            "activation_1 (Activation)       (None, 32, 32, 128)  0           batch_normalization_1[0][0]      \n",
            "__________________________________________________________________________________________________\n",
            "conv2d_2 (Conv2D)               (None, 32, 32, 128)  147584      activation_1[0][0]               \n",
            "__________________________________________________________________________________________________\n",
            "concatenate_1 (Concatenate)     (None, 32, 32, 256)  0           conv2d_1[0][0]                   \n",
            "                                                                 conv2d_2[0][0]                   \n",
            "__________________________________________________________________________________________________\n",
            "batch_normalization_2 (BatchNor (None, 32, 32, 256)  1024        concatenate_1[0][0]              \n",
            "__________________________________________________________________________________________________\n",
            "activation_2 (Activation)       (None, 32, 32, 256)  0           batch_normalization_2[0][0]      \n",
            "__________________________________________________________________________________________________\n",
            "conv2d_3 (Conv2D)               (None, 32, 32, 128)  295040      activation_2[0][0]               \n",
            "__________________________________________________________________________________________________\n",
            "concatenate_2 (Concatenate)     (None, 32, 32, 384)  0           concatenate_1[0][0]              \n",
            "                                                                 conv2d_3[0][0]                   \n",
            "__________________________________________________________________________________________________\n",
            "batch_normalization_3 (BatchNor (None, 32, 32, 384)  1536        concatenate_2[0][0]              \n",
            "__________________________________________________________________________________________________\n",
            "activation_3 (Activation)       (None, 32, 32, 384)  0           batch_normalization_3[0][0]      \n",
            "__________________________________________________________________________________________________\n",
            "conv2d_4 (Conv2D)               (None, 32, 32, 128)  49280       activation_3[0][0]               \n",
            "__________________________________________________________________________________________________\n",
            "average_pooling2d_1 (AveragePoo (None, 16, 16, 128)  0           conv2d_4[0][0]                   \n",
            "__________________________________________________________________________________________________\n",
            "batch_normalization_4 (BatchNor (None, 16, 16, 128)  512         average_pooling2d_1[0][0]        \n",
            "__________________________________________________________________________________________________\n",
            "activation_4 (Activation)       (None, 16, 16, 128)  0           batch_normalization_4[0][0]      \n",
            "__________________________________________________________________________________________________\n",
            "conv2d_5 (Conv2D)               (None, 16, 16, 128)  147584      activation_4[0][0]               \n",
            "__________________________________________________________________________________________________\n",
            "concatenate_3 (Concatenate)     (None, 16, 16, 256)  0           average_pooling2d_1[0][0]        \n",
            "                                                                 conv2d_5[0][0]                   \n",
            "__________________________________________________________________________________________________\n",
            "batch_normalization_5 (BatchNor (None, 16, 16, 256)  1024        concatenate_3[0][0]              \n",
            "__________________________________________________________________________________________________\n",
            "activation_5 (Activation)       (None, 16, 16, 256)  0           batch_normalization_5[0][0]      \n",
            "__________________________________________________________________________________________________\n",
            "conv2d_6 (Conv2D)               (None, 16, 16, 128)  295040      activation_5[0][0]               \n",
            "__________________________________________________________________________________________________\n",
            "concatenate_4 (Concatenate)     (None, 16, 16, 384)  0           concatenate_3[0][0]              \n",
            "                                                                 conv2d_6[0][0]                   \n",
            "__________________________________________________________________________________________________\n",
            "batch_normalization_6 (BatchNor (None, 16, 16, 384)  1536        concatenate_4[0][0]              \n",
            "__________________________________________________________________________________________________\n",
            "activation_6 (Activation)       (None, 16, 16, 384)  0           batch_normalization_6[0][0]      \n",
            "__________________________________________________________________________________________________\n",
            "conv2d_7 (Conv2D)               (None, 16, 16, 128)  49280       activation_6[0][0]               \n",
            "__________________________________________________________________________________________________\n",
            "average_pooling2d_2 (AveragePoo (None, 8, 8, 128)    0           conv2d_7[0][0]                   \n",
            "__________________________________________________________________________________________________\n",
            "batch_normalization_7 (BatchNor (None, 8, 8, 128)    512         average_pooling2d_2[0][0]        \n",
            "__________________________________________________________________________________________________\n",
            "activation_7 (Activation)       (None, 8, 8, 128)    0           batch_normalization_7[0][0]      \n",
            "__________________________________________________________________________________________________\n",
            "conv2d_8 (Conv2D)               (None, 8, 8, 128)    147584      activation_7[0][0]               \n",
            "__________________________________________________________________________________________________\n",
            "concatenate_5 (Concatenate)     (None, 8, 8, 256)    0           average_pooling2d_2[0][0]        \n",
            "                                                                 conv2d_8[0][0]                   \n",
            "__________________________________________________________________________________________________\n",
            "batch_normalization_8 (BatchNor (None, 8, 8, 256)    1024        concatenate_5[0][0]              \n",
            "__________________________________________________________________________________________________\n",
            "activation_8 (Activation)       (None, 8, 8, 256)    0           batch_normalization_8[0][0]      \n",
            "__________________________________________________________________________________________________\n",
            "conv2d_9 (Conv2D)               (None, 8, 8, 128)    295040      activation_8[0][0]               \n",
            "__________________________________________________________________________________________________\n",
            "concatenate_6 (Concatenate)     (None, 8, 8, 384)    0           concatenate_5[0][0]              \n",
            "                                                                 conv2d_9[0][0]                   \n",
            "__________________________________________________________________________________________________\n",
            "batch_normalization_9 (BatchNor (None, 8, 8, 384)    1536        concatenate_6[0][0]              \n",
            "__________________________________________________________________________________________________\n",
            "activation_9 (Activation)       (None, 8, 8, 384)    0           batch_normalization_9[0][0]      \n",
            "__________________________________________________________________________________________________\n",
            "conv2d_10 (Conv2D)              (None, 8, 8, 128)    49280       activation_9[0][0]               \n",
            "__________________________________________________________________________________________________\n",
            "average_pooling2d_3 (AveragePoo (None, 4, 4, 128)    0           conv2d_10[0][0]                  \n",
            "__________________________________________________________________________________________________\n",
            "batch_normalization_10 (BatchNo (None, 4, 4, 128)    512         average_pooling2d_3[0][0]        \n",
            "__________________________________________________________________________________________________\n",
            "activation_10 (Activation)      (None, 4, 4, 128)    0           batch_normalization_10[0][0]     \n",
            "__________________________________________________________________________________________________\n",
            "conv2d_11 (Conv2D)              (None, 4, 4, 128)    147584      activation_10[0][0]              \n",
            "__________________________________________________________________________________________________\n",
            "concatenate_7 (Concatenate)     (None, 4, 4, 256)    0           average_pooling2d_3[0][0]        \n",
            "                                                                 conv2d_11[0][0]                  \n",
            "__________________________________________________________________________________________________\n",
            "batch_normalization_11 (BatchNo (None, 4, 4, 256)    1024        concatenate_7[0][0]              \n",
            "__________________________________________________________________________________________________\n",
            "activation_11 (Activation)      (None, 4, 4, 256)    0           batch_normalization_11[0][0]     \n",
            "__________________________________________________________________________________________________\n",
            "conv2d_12 (Conv2D)              (None, 4, 4, 128)    295040      activation_11[0][0]              \n",
            "__________________________________________________________________________________________________\n",
            "concatenate_8 (Concatenate)     (None, 4, 4, 384)    0           concatenate_7[0][0]              \n",
            "                                                                 conv2d_12[0][0]                  \n",
            "__________________________________________________________________________________________________\n",
            "batch_normalization_12 (BatchNo (None, 4, 4, 384)    1536        concatenate_8[0][0]              \n",
            "__________________________________________________________________________________________________\n",
            "activation_12 (Activation)      (None, 4, 4, 384)    0           batch_normalization_12[0][0]     \n",
            "__________________________________________________________________________________________________\n",
            "average_pooling2d_4 (AveragePoo (None, 2, 2, 384)    0           activation_12[0][0]              \n",
            "__________________________________________________________________________________________________\n",
            "flatten_1 (Flatten)             (None, 1536)         0           average_pooling2d_4[0][0]        \n",
            "__________________________________________________________________________________________________\n",
            "dense_1 (Dense)                 (None, 10)           15370       flatten_1[0][0]                  \n",
            "==================================================================================================\n",
            "Total params: 1,949,578\n",
            "Trainable params: 1,943,434\n",
            "Non-trainable params: 6,144\n",
            "__________________________________________________________________________________________________\n"
          ],
          "name": "stdout"
        }
      ]
    },
    {
      "metadata": {
        "id": "b4XOsW3ahSkL",
        "colab_type": "code",
        "colab": {
          "autoexec": {
            "startup": false,
            "wait_interval": 0
          }
        }
      },
      "cell_type": "code",
      "source": [
        "# determine Loss function and Optimizer\n",
        "model.compile(loss='categorical_crossentropy',\n",
        "              optimizer=Adam(),\n",
        "              metrics=['accuracy'])\n",
        "# save weights for best val_acc every 10 epochs\n",
        "filepath='weights_best.hdf5'\n",
        "checkpoint=ModelCheckpoint(filepath, monitor='val_acc', verbose=1, save_best_only=True, mode='max', period=10)\n",
        "callbacks_list = [checkpoint]"
      ],
      "execution_count": 0,
      "outputs": []
    },
    {
      "metadata": {
        "id": "crhGk7kEhXAz",
        "colab_type": "code",
        "colab": {
          "autoexec": {
            "startup": false,
            "wait_interval": 0
          },
          "base_uri": "https://localhost:8080/",
          "height": 2676
        },
        "outputId": "4a064365-525b-4701-acf0-83e9637648d3",
        "executionInfo": {
          "status": "ok",
          "timestamp": 1527551348728,
          "user_tz": -330,
          "elapsed": 7292044,
          "user": {
            "displayName": "Lalitha Shree",
            "photoUrl": "//lh5.googleusercontent.com/-TkuX1LjkbFY/AAAAAAAAAAI/AAAAAAAAAAA/dpPeZKr2rTs/s50-c-k-no/photo.jpg",
            "userId": "100965622973345586325"
          }
        }
      },
      "cell_type": "code",
      "source": [
        "\n",
        "start = time.time()\n",
        "\n",
        "# history = model.fit(x_train, y_train,\n",
        "#                     batch_size=batch_size,\n",
        "#                     epochs=epochs,\n",
        "#                     verbose=1,\n",
        "#                     shuffle=True,\n",
        "#                     validation_data=(x_test, y_test),\n",
        "#                     callbacks=callbacks_list\n",
        "#                     )\n",
        "\n",
        "datagen = ImageDataGenerator(\n",
        "                            #featurewise_center=False,\n",
        "                            #featurewise_std_normalization=False,\n",
        "                            #rotation_range=20,\n",
        "                            width_shift_range=0.2,\n",
        "                            height_shift_range=0.2,\n",
        "                            horizontal_flip=True,\n",
        "                            #vertical_flip=False \n",
        "                            )\n",
        "\n",
        "datagen.fit(x_train)\n",
        "\n",
        "# fits the model on batches with real-time data augmentation:\n",
        "# model.fit_generator(datagen.flow(x_train, y_train, batch_size=32),\n",
        "#                     steps_per_epoch=len(x_train) / 32, epochs=epochs)\n",
        "history = model.fit_generator(datagen.flow(x_train, y_train, batch_size=batch_size),\n",
        "                        steps_per_epoch=x_train.shape[0] // batch_size,\n",
        "                        verbose=1,\n",
        "                        epochs=epochs,\n",
        "                        shuffle=True,\n",
        "                        validation_data=(x_test, y_test),\n",
        "                        callbacks=callbacks_list)\n",
        "\n",
        "end = time.time()\n",
        "print('Training started at: ', start, ' Ended at: ', end)\n",
        "print('time taken(sec):', end-start)\n",
        "\n",
        "# list all data in history\n",
        "print(history.history.keys())\n",
        "# summarize history for accuracy\n",
        "plt.plot(history.history['acc'])\n",
        "plt.plot(history.history['val_acc'])\n",
        "plt.title('model accuracy')\n",
        "plt.ylabel('accuracy')\n",
        "plt.xlabel('epoch')\n",
        "plt.legend(['train', 'test'], loc='upper left')\n",
        "plt.show()\n",
        "# summarize history for loss\n",
        "plt.plot(history.history['loss'])\n",
        "plt.plot(history.history['val_loss'])\n",
        "plt.title('model loss')\n",
        "plt.ylabel('loss')\n",
        "plt.xlabel('epoch')\n",
        "plt.legend(['train', 'test'], loc='upper left')\n",
        "plt.show()"
      ],
      "execution_count": 0,
      "outputs": [
        {
          "output_type": "stream",
          "text": [
            "Epoch 1/50\n",
            "781/781 [==============================] - 150s 193ms/step - loss: 1.4878 - acc: 0.4603 - val_loss: 1.4987 - val_acc: 0.5037\n",
            "Epoch 2/50\n",
            "124/781 [===>..........................] - ETA: 1:54 - loss: 1.1148 - acc: 0.6103"
          ],
          "name": "stdout"
        },
        {
          "output_type": "stream",
          "text": [
            "781/781 [==============================] - 146s 187ms/step - loss: 1.0010 - acc: 0.6445 - val_loss: 1.1140 - val_acc: 0.6435\n",
            "Epoch 3/50\n",
            "216/781 [=======>......................] - ETA: 1:38 - loss: 0.8398 - acc: 0.7069"
          ],
          "name": "stdout"
        },
        {
          "output_type": "stream",
          "text": [
            "781/781 [==============================] - 146s 187ms/step - loss: 0.7920 - acc: 0.7222 - val_loss: 0.9822 - val_acc: 0.6814\n",
            "Epoch 4/50\n",
            "251/781 [========>.....................] - ETA: 1:32 - loss: 0.6915 - acc: 0.7562"
          ],
          "name": "stdout"
        },
        {
          "output_type": "stream",
          "text": [
            "781/781 [==============================] - 145s 186ms/step - loss: 0.6730 - acc: 0.7645 - val_loss: 0.7869 - val_acc: 0.7444\n",
            "Epoch 5/50\n",
            "264/781 [=========>....................] - ETA: 1:29 - loss: 0.5991 - acc: 0.7920"
          ],
          "name": "stdout"
        },
        {
          "output_type": "stream",
          "text": [
            "781/781 [==============================] - 146s 187ms/step - loss: 0.5922 - acc: 0.7939 - val_loss: 1.0974 - val_acc: 0.6470\n",
            "Epoch 6/50\n",
            "269/781 [=========>....................] - ETA: 1:28 - loss: 0.5310 - acc: 0.8146"
          ],
          "name": "stdout"
        },
        {
          "output_type": "stream",
          "text": [
            "781/781 [==============================] - 146s 187ms/step - loss: 0.5264 - acc: 0.8170 - val_loss: 0.6536 - val_acc: 0.7770\n",
            "Epoch 7/50\n",
            "270/781 [=========>....................] - ETA: 1:28 - loss: 0.4806 - acc: 0.8330"
          ],
          "name": "stdout"
        },
        {
          "output_type": "stream",
          "text": [
            "781/781 [==============================] - 146s 187ms/step - loss: 0.4811 - acc: 0.8332 - val_loss: 0.7076 - val_acc: 0.7715\n",
            "Epoch 8/50\n",
            "271/781 [=========>....................] - ETA: 1:28 - loss: 0.4443 - acc: 0.8454"
          ],
          "name": "stdout"
        },
        {
          "output_type": "stream",
          "text": [
            "781/781 [==============================] - 146s 186ms/step - loss: 0.4397 - acc: 0.8468 - val_loss: 0.8351 - val_acc: 0.7420\n",
            "Epoch 9/50\n",
            "271/781 [=========>....................] - ETA: 1:28 - loss: 0.4037 - acc: 0.8601"
          ],
          "name": "stdout"
        },
        {
          "output_type": "stream",
          "text": [
            "781/781 [==============================] - 146s 186ms/step - loss: 0.4097 - acc: 0.8580 - val_loss: 0.5866 - val_acc: 0.8037\n",
            "Epoch 10/50\n",
            "270/781 [=========>....................] - ETA: 1:28 - loss: 0.3789 - acc: 0.8685"
          ],
          "name": "stdout"
        },
        {
          "output_type": "stream",
          "text": [
            "781/781 [==============================] - 146s 187ms/step - loss: 0.3765 - acc: 0.8702 - val_loss: 0.4971 - val_acc: 0.8393\n",
            "\n",
            "Epoch 00010: val_acc improved from -inf to 0.83930, saving model to weights_best.hdf5\n",
            "Epoch 11/50\n",
            "192/781 [======>.......................] - ETA: 1:42 - loss: 0.3449 - acc: 0.8796"
          ],
          "name": "stdout"
        },
        {
          "output_type": "stream",
          "text": [
            "781/781 [==============================] - 146s 187ms/step - loss: 0.3469 - acc: 0.8782 - val_loss: 0.6054 - val_acc: 0.8078\n",
            "Epoch 12/50\n",
            "241/781 [========>.....................] - ETA: 1:33 - loss: 0.3159 - acc: 0.8896"
          ],
          "name": "stdout"
        },
        {
          "output_type": "stream",
          "text": [
            "781/781 [==============================] - 146s 186ms/step - loss: 0.3280 - acc: 0.8858 - val_loss: 0.5355 - val_acc: 0.8305\n",
            "Epoch 13/50\n",
            "259/781 [========>.....................] - ETA: 1:30 - loss: 0.3082 - acc: 0.8927"
          ],
          "name": "stdout"
        },
        {
          "output_type": "stream",
          "text": [
            "781/781 [==============================] - 146s 187ms/step - loss: 0.3131 - acc: 0.8916 - val_loss: 0.5201 - val_acc: 0.8368\n",
            "Epoch 14/50\n",
            "266/781 [=========>....................] - ETA: 1:29 - loss: 0.2910 - acc: 0.8973"
          ],
          "name": "stdout"
        },
        {
          "output_type": "stream",
          "text": [
            "781/781 [==============================] - 146s 187ms/step - loss: 0.2965 - acc: 0.8954 - val_loss: 0.5083 - val_acc: 0.8495\n",
            "Epoch 15/50\n",
            "268/781 [=========>....................] - ETA: 1:29 - loss: 0.2683 - acc: 0.9072"
          ],
          "name": "stdout"
        },
        {
          "output_type": "stream",
          "text": [
            "781/781 [==============================] - 146s 187ms/step - loss: 0.2701 - acc: 0.9066 - val_loss: 0.4792 - val_acc: 0.8494\n",
            "Epoch 16/50\n",
            "268/781 [=========>....................] - ETA: 1:29 - loss: 0.2537 - acc: 0.9122"
          ],
          "name": "stdout"
        },
        {
          "output_type": "stream",
          "text": [
            "781/781 [==============================] - 146s 186ms/step - loss: 0.2570 - acc: 0.9108 - val_loss: 0.5444 - val_acc: 0.8303\n",
            "Epoch 17/50\n",
            "269/781 [=========>....................] - ETA: 1:28 - loss: 0.2337 - acc: 0.9177"
          ],
          "name": "stdout"
        },
        {
          "output_type": "stream",
          "text": [
            "781/781 [==============================] - 145s 186ms/step - loss: 0.2448 - acc: 0.9137 - val_loss: 0.4754 - val_acc: 0.8535\n",
            "Epoch 18/50\n",
            "269/781 [=========>....................] - ETA: 1:28 - loss: 0.2287 - acc: 0.9202"
          ],
          "name": "stdout"
        },
        {
          "output_type": "stream",
          "text": [
            "781/781 [==============================] - 145s 186ms/step - loss: 0.2351 - acc: 0.9179 - val_loss: 0.4264 - val_acc: 0.8680\n",
            "Epoch 19/50\n",
            "269/781 [=========>....................] - ETA: 1:28 - loss: 0.2212 - acc: 0.9235"
          ],
          "name": "stdout"
        },
        {
          "output_type": "stream",
          "text": [
            "781/781 [==============================] - 146s 187ms/step - loss: 0.2207 - acc: 0.9224 - val_loss: 0.4168 - val_acc: 0.8790\n",
            "Epoch 20/50\n",
            "269/781 [=========>....................] - ETA: 1:28 - loss: 0.2088 - acc: 0.9272"
          ],
          "name": "stdout"
        },
        {
          "output_type": "stream",
          "text": [
            "781/781 [==============================] - 146s 186ms/step - loss: 0.2162 - acc: 0.9238 - val_loss: 0.3388 - val_acc: 0.8940\n",
            "\n",
            "Epoch 00020: val_acc improved from 0.83930 to 0.89400, saving model to weights_best.hdf5\n",
            "Epoch 21/50\n",
            "190/781 [======>.......................] - ETA: 1:41 - loss: 0.1886 - acc: 0.9332"
          ],
          "name": "stdout"
        },
        {
          "output_type": "stream",
          "text": [
            "781/781 [==============================] - 146s 187ms/step - loss: 0.1952 - acc: 0.9317 - val_loss: 0.5035 - val_acc: 0.8499\n",
            "Epoch 22/50\n",
            "240/781 [========>.....................] - ETA: 1:33 - loss: 0.1901 - acc: 0.9322"
          ],
          "name": "stdout"
        },
        {
          "output_type": "stream",
          "text": [
            "781/781 [==============================] - 145s 186ms/step - loss: 0.1938 - acc: 0.9320 - val_loss: 0.3718 - val_acc: 0.8900\n",
            "Epoch 23/50\n",
            "258/781 [========>.....................] - ETA: 1:30 - loss: 0.1894 - acc: 0.9358"
          ],
          "name": "stdout"
        },
        {
          "output_type": "stream",
          "text": [
            "781/781 [==============================] - 146s 186ms/step - loss: 0.1891 - acc: 0.9345 - val_loss: 0.4316 - val_acc: 0.8731\n",
            "Epoch 24/50\n",
            "265/781 [=========>....................] - ETA: 1:29 - loss: 0.1664 - acc: 0.9442"
          ],
          "name": "stdout"
        },
        {
          "output_type": "stream",
          "text": [
            "781/781 [==============================] - 146s 187ms/step - loss: 0.1753 - acc: 0.9388 - val_loss: 0.4370 - val_acc: 0.8733\n",
            "Epoch 25/50\n",
            "268/781 [=========>....................] - ETA: 1:29 - loss: 0.1625 - acc: 0.9425"
          ],
          "name": "stdout"
        },
        {
          "output_type": "stream",
          "text": [
            "781/781 [==============================] - 146s 186ms/step - loss: 0.1676 - acc: 0.9405 - val_loss: 0.4453 - val_acc: 0.8693\n",
            "Epoch 26/50\n",
            "269/781 [=========>....................] - ETA: 1:28 - loss: 0.1551 - acc: 0.9452"
          ],
          "name": "stdout"
        },
        {
          "output_type": "stream",
          "text": [
            "781/781 [==============================] - 146s 187ms/step - loss: 0.1611 - acc: 0.9432 - val_loss: 0.4524 - val_acc: 0.8759\n",
            "Epoch 27/50\n",
            "269/781 [=========>....................] - ETA: 1:28 - loss: 0.1479 - acc: 0.9483"
          ],
          "name": "stdout"
        },
        {
          "output_type": "stream",
          "text": [
            "781/781 [==============================] - 146s 187ms/step - loss: 0.1528 - acc: 0.9466 - val_loss: 0.4744 - val_acc: 0.8663\n",
            "Epoch 28/50\n",
            "269/781 [=========>....................] - ETA: 1:29 - loss: 0.1432 - acc: 0.9506"
          ],
          "name": "stdout"
        },
        {
          "output_type": "stream",
          "text": [
            "781/781 [==============================] - 146s 187ms/step - loss: 0.1475 - acc: 0.9479 - val_loss: 0.5008 - val_acc: 0.8616\n",
            "Epoch 29/50\n",
            "269/781 [=========>....................] - ETA: 1:28 - loss: 0.1391 - acc: 0.9503"
          ],
          "name": "stdout"
        },
        {
          "output_type": "stream",
          "text": [
            "781/781 [==============================] - 146s 187ms/step - loss: 0.1415 - acc: 0.9495 - val_loss: 0.5056 - val_acc: 0.8539\n",
            "Epoch 30/50\n",
            "268/781 [=========>....................] - ETA: 1:29 - loss: 0.1317 - acc: 0.9535"
          ],
          "name": "stdout"
        },
        {
          "output_type": "stream",
          "text": [
            "781/781 [==============================] - 146s 186ms/step - loss: 0.1363 - acc: 0.9519 - val_loss: 0.4971 - val_acc: 0.8729\n",
            "\n",
            "Epoch 00030: val_acc did not improve from 0.89400\n",
            "Epoch 31/50\n",
            "218/781 [=======>......................] - ETA: 1:37 - loss: 0.1258 - acc: 0.9563"
          ],
          "name": "stdout"
        },
        {
          "output_type": "stream",
          "text": [
            "781/781 [==============================] - 145s 186ms/step - loss: 0.1314 - acc: 0.9543 - val_loss: 0.6177 - val_acc: 0.8552\n",
            "Epoch 32/50\n",
            "250/781 [========>.....................] - ETA: 1:32 - loss: 0.1219 - acc: 0.9549"
          ],
          "name": "stdout"
        },
        {
          "output_type": "stream",
          "text": [
            "781/781 [==============================] - 145s 186ms/step - loss: 0.1277 - acc: 0.9546 - val_loss: 0.4177 - val_acc: 0.8868\n",
            "Epoch 33/50\n",
            "262/781 [=========>....................] - ETA: 1:29 - loss: 0.1157 - acc: 0.9583"
          ],
          "name": "stdout"
        },
        {
          "output_type": "stream",
          "text": [
            "781/781 [==============================] - 146s 187ms/step - loss: 0.1227 - acc: 0.9561 - val_loss: 0.5351 - val_acc: 0.8524\n",
            "Epoch 34/50\n",
            "267/781 [=========>....................] - ETA: 1:29 - loss: 0.1178 - acc: 0.9596"
          ],
          "name": "stdout"
        },
        {
          "output_type": "stream",
          "text": [
            "781/781 [==============================] - 146s 186ms/step - loss: 0.1177 - acc: 0.9585 - val_loss: 0.5106 - val_acc: 0.8702\n",
            "Epoch 35/50\n",
            "268/781 [=========>....................] - ETA: 1:28 - loss: 0.1054 - acc: 0.9623"
          ],
          "name": "stdout"
        },
        {
          "output_type": "stream",
          "text": [
            "781/781 [==============================] - 145s 186ms/step - loss: 0.1157 - acc: 0.9585 - val_loss: 0.4835 - val_acc: 0.8722\n",
            "Epoch 36/50\n",
            "269/781 [=========>....................] - ETA: 1:28 - loss: 0.1086 - acc: 0.9618"
          ],
          "name": "stdout"
        },
        {
          "output_type": "stream",
          "text": [
            "781/781 [==============================] - 146s 187ms/step - loss: 0.1076 - acc: 0.9619 - val_loss: 0.4028 - val_acc: 0.8944\n",
            "Epoch 37/50\n",
            "269/781 [=========>....................] - ETA: 1:28 - loss: 0.0983 - acc: 0.9653"
          ],
          "name": "stdout"
        },
        {
          "output_type": "stream",
          "text": [
            "781/781 [==============================] - 146s 187ms/step - loss: 0.1101 - acc: 0.9613 - val_loss: 0.4176 - val_acc: 0.8898\n",
            "Epoch 38/50\n",
            "269/781 [=========>....................] - ETA: 1:29 - loss: 0.0946 - acc: 0.9669"
          ],
          "name": "stdout"
        },
        {
          "output_type": "stream",
          "text": [
            "781/781 [==============================] - 146s 187ms/step - loss: 0.1016 - acc: 0.9642 - val_loss: 0.4213 - val_acc: 0.8888\n",
            "Epoch 39/50\n",
            "269/781 [=========>....................] - ETA: 1:28 - loss: 0.0981 - acc: 0.9648"
          ],
          "name": "stdout"
        },
        {
          "output_type": "stream",
          "text": [
            "781/781 [==============================] - 145s 186ms/step - loss: 0.0986 - acc: 0.9650 - val_loss: 0.4999 - val_acc: 0.8728\n",
            "Epoch 40/50\n",
            "269/781 [=========>....................] - ETA: 1:28 - loss: 0.0930 - acc: 0.9681"
          ],
          "name": "stdout"
        },
        {
          "output_type": "stream",
          "text": [
            "781/781 [==============================] - 146s 187ms/step - loss: 0.0955 - acc: 0.9667 - val_loss: 0.5452 - val_acc: 0.8745\n",
            "\n",
            "Epoch 00040: val_acc did not improve from 0.89400\n",
            "Epoch 41/50\n",
            "218/781 [=======>......................] - ETA: 1:37 - loss: 0.0882 - acc: 0.9696"
          ],
          "name": "stdout"
        },
        {
          "output_type": "stream",
          "text": [
            "781/781 [==============================] - 146s 187ms/step - loss: 0.0992 - acc: 0.9650 - val_loss: 0.4856 - val_acc: 0.8816\n",
            "Epoch 42/50\n",
            "250/781 [========>.....................] - ETA: 1:32 - loss: 0.0822 - acc: 0.9713"
          ],
          "name": "stdout"
        },
        {
          "output_type": "stream",
          "text": [
            "781/781 [==============================] - 146s 187ms/step - loss: 0.0908 - acc: 0.9680 - val_loss: 0.4314 - val_acc: 0.8931\n",
            "Epoch 43/50\n",
            "262/781 [=========>....................] - ETA: 1:30 - loss: 0.0832 - acc: 0.9717"
          ],
          "name": "stdout"
        },
        {
          "output_type": "stream",
          "text": [
            "781/781 [==============================] - 146s 187ms/step - loss: 0.0913 - acc: 0.9680 - val_loss: 0.4721 - val_acc: 0.8776\n",
            "Epoch 44/50\n",
            "267/781 [=========>....................] - ETA: 1:29 - loss: 0.0903 - acc: 0.9678"
          ],
          "name": "stdout"
        },
        {
          "output_type": "stream",
          "text": [
            "781/781 [==============================] - 146s 187ms/step - loss: 0.0902 - acc: 0.9678 - val_loss: 0.4727 - val_acc: 0.8844\n",
            "Epoch 45/50\n",
            "268/781 [=========>....................] - ETA: 1:29 - loss: 0.0749 - acc: 0.9722"
          ],
          "name": "stdout"
        },
        {
          "output_type": "stream",
          "text": [
            "781/781 [==============================] - 146s 187ms/step - loss: 0.0801 - acc: 0.9710 - val_loss: 0.4561 - val_acc: 0.8913\n",
            "Epoch 46/50\n",
            "269/781 [=========>....................] - ETA: 1:28 - loss: 0.0839 - acc: 0.9709"
          ],
          "name": "stdout"
        },
        {
          "output_type": "stream",
          "text": [
            "781/781 [==============================] - 146s 187ms/step - loss: 0.0830 - acc: 0.9708 - val_loss: 0.4448 - val_acc: 0.8892\n",
            "Epoch 47/50\n",
            "269/781 [=========>....................] - ETA: 1:28 - loss: 0.0755 - acc: 0.9743"
          ],
          "name": "stdout"
        },
        {
          "output_type": "stream",
          "text": [
            "781/781 [==============================] - 145s 185ms/step - loss: 0.0802 - acc: 0.9722 - val_loss: 0.5253 - val_acc: 0.8817\n",
            "Epoch 48/50\n",
            "269/781 [=========>....................] - ETA: 1:28 - loss: 0.0850 - acc: 0.9703"
          ],
          "name": "stdout"
        },
        {
          "output_type": "stream",
          "text": [
            "781/781 [==============================] - 145s 185ms/step - loss: 0.0813 - acc: 0.9721 - val_loss: 0.4241 - val_acc: 0.8989\n",
            "Epoch 49/50\n",
            "269/781 [=========>....................] - ETA: 1:28 - loss: 0.0799 - acc: 0.9716"
          ],
          "name": "stdout"
        },
        {
          "output_type": "stream",
          "text": [
            "781/781 [==============================] - 145s 185ms/step - loss: 0.0744 - acc: 0.9738 - val_loss: 0.4859 - val_acc: 0.8919\n",
            "Epoch 50/50\n",
            "269/781 [=========>....................] - ETA: 1:28 - loss: 0.0717 - acc: 0.9736"
          ],
          "name": "stdout"
        },
        {
          "output_type": "stream",
          "text": [
            "781/781 [==============================] - 145s 186ms/step - loss: 0.0766 - acc: 0.9727 - val_loss: 0.4019 - val_acc: 0.9032\n",
            "\n",
            "Epoch 00050: val_acc improved from 0.89400 to 0.90320, saving model to weights_best.hdf5\n",
            "Training started at:  1527544057.0782273  Ended at:  1527551347.405864\n",
            "time taken(sec): 7290.32763671875\n",
            "dict_keys(['val_loss', 'val_acc', 'loss', 'acc'])\n"
          ],
          "name": "stdout"
        },
        {
          "output_type": "display_data",
          "data": {
            "image/png": "[encoded data removed]",
            "text/plain": [
              "<matplotlib.figure.Figure at 0x7fd381c3b550>"
            ]
          },
          "metadata": {
            "tags": []
          }
        },
        {
          "output_type": "display_data",
          "data": {
            "image/png": "[encoded data removed]",
            "text/plain": [
              "<matplotlib.figure.Figure at 0x7fd3333df6a0>"
            ]
          },
          "metadata": {
            "tags": []
          }
        }
      ]
    },
    {
      "metadata": {
        "id": "ZcWydmIVhZGr",
        "colab_type": "code",
        "colab": {
          "autoexec": {
            "startup": false,
            "wait_interval": 0
          },
          "base_uri": "https://localhost:8080/",
          "height": 68
        },
        "outputId": "8a873eb7-6759-4484-cac9-bcae69a4b7ca",
        "executionInfo": {
          "status": "ok",
          "timestamp": 1527551361661,
          "user_tz": -330,
          "elapsed": 12855,
          "user": {
            "displayName": "Lalitha Shree",
            "photoUrl": "//lh5.googleusercontent.com/-TkuX1LjkbFY/AAAAAAAAAAI/AAAAAAAAAAA/dpPeZKr2rTs/s50-c-k-no/photo.jpg",
            "userId": "100965622973345586325"
          }
        }
      },
      "cell_type": "code",
      "source": [
        "# Test the model\n",
        "score = model.evaluate(x_test, y_test, verbose=1)\n",
        "print('Test loss:', score[0])\n",
        "print('Test accuracy:', score[1])"
      ],
      "execution_count": 0,
      "outputs": [
        {
          "output_type": "stream",
          "text": [
            "10000/10000 [==============================] - 12s 1ms/step\n",
            "Test loss: 0.40189236931055783\n",
            "Test accuracy: 0.9032\n"
          ],
          "name": "stdout"
        }
      ]
    },
    {
      "metadata": {
        "id": "UE3lF6EH1r_L",
        "colab_type": "code",
        "colab": {
          "autoexec": {
            "startup": false,
            "wait_interval": 0
          },
          "base_uri": "https://localhost:8080/",
          "height": 34
        },
        "outputId": "718d9c01-b342-4d78-f3bb-ea3dda6bb1eb",
        "executionInfo": {
          "status": "ok",
          "timestamp": 1527551362551,
          "user_tz": -330,
          "elapsed": 844,
          "user": {
            "displayName": "Lalitha Shree",
            "photoUrl": "//lh5.googleusercontent.com/-TkuX1LjkbFY/AAAAAAAAAAI/AAAAAAAAAAA/dpPeZKr2rTs/s50-c-k-no/photo.jpg",
            "userId": "100965622973345586325"
          }
        }
      },
      "cell_type": "code",
      "source": [
        "# Save the trained weights in to .h5 format\n",
        "model.save_weights(\"DNST_model.h5\")\n",
        "print(\"Saved model to disk\")"
      ],
      "execution_count": 0,
      "outputs": [
        {
          "output_type": "stream",
          "text": [
            "Saved model to disk\n"
          ],
          "name": "stdout"
        }
      ]
    },
    {
      "metadata": {
        "id": "ai-yZ2ED5AK1",
        "colab_type": "code",
        "colab": {
          "autoexec": {
            "startup": false,
            "wait_interval": 0
          }
        }
      },
      "cell_type": "code",
      "source": [
        "from google.colab import files\n",
        "\n",
        "files.download('DNST_model.h5')"
      ],
      "execution_count": 0,
      "outputs": []
    },
    {
      "metadata": {
        "id": "Og56VCRh5j8V",
        "colab_type": "code",
        "colab": {
          "autoexec": {
            "startup": false,
            "wait_interval": 0
          }
        }
      },
      "cell_type": "code",
      "source": [
        ""
      ],
      "execution_count": 0,
      "outputs": []
    }
  ]
}