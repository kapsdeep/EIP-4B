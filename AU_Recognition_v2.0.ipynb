{
  "nbformat": 4,
  "nbformat_minor": 0,
  "metadata": {
    "colab": {
      "name": "AU.ipynb",
      "version": "0.3.2",
      "provenance": [],
      "collapsed_sections": []
    }
  },
  "cells": [
    {
      "metadata": {
        "id": "p5ULE4qkA9-k",
        "colab_type": "text"
      },
      "cell_type": "markdown",
      "source": [
        "**Code Flow**\n",
        "\n",
        "1.   Use CK+ database with expression label and AU labels - *#309 images*\n",
        "2.   Process the images to obtain frontal and uniform eye distance faces - *using facemask for test*\n",
        "3.   Scale the obtained images to agreed resolution without distorting aspect-ratio\n",
        "\n",
        "---\n",
        "\n",
        "Alternating Optimization \n",
        "\n",
        "4.   Use Expression-AU relationship table#2 to initialize missing AU labels as 1 or 0\n",
        "5.   Extract features and textures from processed images using local binary pattern - *sklearn module*\n",
        "6.   Reduce dimensionality of the data using PCA/LDA/Adaboost/Gentleboost - *planned in next iteration*\n",
        "7.   Train SVM classifier with RBF kernel per Eq#21 - *L-BGFS planned in next iteration*\n",
        "8.   After converging step#7, fix W using optimized values\n",
        "9.   Start training again using Eq#22\n",
        "10.   Find best AU config for each sample by Eq#20\n",
        "11.   If Eq#20 minimized then replace AU config else don't\n",
        "12.   Repeat step9-11 until all samples are best per Eq#20\n",
        "13.   Repeat from step#7\n",
        "\n"
      ]
    },
    {
      "metadata": {
        "id": "ZZYK6XjxMjIT",
        "colab_type": "code",
        "colab": {
          "base_uri": "https://localhost:8080/",
          "height": 153
        },
        "outputId": "6475509f-00a7-4b11-d3ad-54bb8999e941"
      },
      "cell_type": "code",
      "source": [
        "def download_dataset_to_collab(dataset):\n",
        "  '''\n",
        "  Google Drive is a tag-based (also called semantic) file system, which, for example, allows a file to be in several places at the same time \n",
        "  (just by adding IDs of folders to the file's parents property)\n",
        "  Hence to get the file/folder ID, navigate to the folder using browser & note the ID from URL \n",
        "  Ex: https://drive.google.com/drive/folders/1mZVxppM8dHFcoKdc9Vu9vS-n_GGnpCkO\n",
        "  '''\n",
        "  #Code to download files from google drive to collab using Pydrive\n",
        "\n",
        "  !pip install -U -q PyDrive\n",
        "\n",
        "  from pydrive.auth import GoogleAuth\n",
        "  from pydrive.drive import GoogleDrive\n",
        "  from google.colab import auth\n",
        "  from oauth2client.client import GoogleCredentials\n",
        "  import time\n",
        "\n",
        "  # 1. Authenticate and create the PyDrive client.\n",
        "  auth.authenticate_user()\n",
        "  gauth = GoogleAuth()\n",
        "  gauth.credentials = GoogleCredentials.get_application_default()\n",
        "  drive = GoogleDrive(gauth)\n",
        "\n",
        "  # Auto-iterate through all files in the folder ID.\n",
        "  start = time.time()\n",
        "  for key, value in dataset.items():\n",
        "    print(\"Initiating files copy from {} ...\".format(key))\n",
        "    if('dir' in key):\n",
        "      file_list = drive.ListFile({'q': \"'{}' in parents and trashed=false\".format(value)}).GetList()      #file_list = drive.ListFile({'q': \"'1czmCOb4w0LiWetvQyhIxi6gGvJuAYb5F' in parents and trashed=false\"}).GetList()\n",
        "      for file1 in file_list:      \n",
        "        file6 = drive.CreateFile({'id': file1['id']}) # Initialize GoogleDriveFile instance with file id.\n",
        "        file6.GetContentFile(file1['title'])          # Download file as file1['title']\n",
        "    else:\n",
        "        fileId = drive.CreateFile({'id': value})\n",
        "        print(type(value))\n",
        "        print(fileId)\n",
        "        print('title: %s, mimeType: %s' % (fileId['title'], fileId['mimeType']))\n",
        "        fileId.GetContentFile(fileId['title'])\n",
        "    print(\"Completed files copy from {}.\".format(key))\n",
        "\n",
        "  end = time.time()                                                                \n",
        "  return 'time taken:'+ str(end-start) +'seconds'\n",
        "\n",
        "dataset = {\n",
        "          #'<file/folder_name>':'<gdrive_folder_id>'\n",
        "          'dir1':'1p7acuIviEzK5D1-udAdConjhmF7hFJIm',\n",
        "          'file1':'1PpeI6Rly8NaSMjHbnrP259sWo0Xzxt1J'\n",
        "          }\n",
        "download_dataset_to_collab(dataset)"
      ],
      "execution_count": 1,
      "outputs": [
        {
          "output_type": "stream",
          "text": [
            "Initiating files copy from dir1 ...\n",
            "Completed files copy from dir1.\n",
            "Initiating files copy from file1 ...\n",
            "<class 'str'>\n",
            "GoogleDriveFile({'id': '1PpeI6Rly8NaSMjHbnrP259sWo0Xzxt1J'})\n",
            "title: au4_svm.csv, mimeType: text/csv\n",
            "Completed files copy from file1.\n"
          ],
          "name": "stdout"
        },
        {
          "output_type": "execute_result",
          "data": {
            "text/plain": [
              "'time taken:180.58999252319336seconds'"
            ]
          },
          "metadata": {
            "tags": []
          },
          "execution_count": 1
        }
      ]
    },
    {
      "metadata": {
        "id": "Fz-la5nUORYS",
        "colab_type": "code",
        "colab": {
          "base_uri": "https://localhost:8080/",
          "height": 170
        },
        "outputId": "31d0a359-2d1b-487c-b3b6-4747ea29eb7e"
      },
      "cell_type": "code",
      "source": [
        "!pwd\n",
        "!ls -l\n",
        "!ls datalab/img | wc -l\n",
        "# !mkdir -p datalab/img\n",
        "# !mv *.png datalab/img\n",
        "import os\n",
        "import numpy as np\n",
        "#http://scikit-image.org/docs/dev/api/skimage.io.html\n",
        "from skimage.io import imread\n",
        "for f in os.listdir('./datalab/img'):\n",
        "  opath='./datalab/img/'+str(f)\n",
        "  img = np.asarray(imread(opath))/255.0\n",
        "print(f, img.shape)\n",
        "print(np.asarray(imread('/content/datalab/img/S116_007_00000017.png')).shape)"
      ],
      "execution_count": 19,
      "outputs": [
        {
          "output_type": "stream",
          "text": [
            "/content\n",
            "total 20\n",
            "-rw-r--r-- 1 root root 2495 Aug 28 15:36 adc.json\n",
            "-rw-r--r-- 1 root root 6490 Aug 28 15:39 au4_svm.csv\n",
            "drwxr-xr-x 3 root root 4096 Aug 28 15:41 datalab\n",
            "drwxr-xr-x 2 root root 4096 Aug 24 16:46 sample_data\n",
            "309\n",
            "S081_008_00000011.png (382, 500)\n",
            "(382, 500)\n"
          ],
          "name": "stdout"
        }
      ]
    },
    {
      "metadata": {
        "id": "G7tF1htUc0no",
        "colab_type": "code",
        "colab": {}
      },
      "cell_type": "code",
      "source": [
        "#http://scikit-image.org/docs/dev/api/skimage.transform.html#skimage.transform.downscale_local_mean\n",
        "from skimage.transform import resize, pyramid_reduce\n",
        "from skimage.io import imread, imsave\n",
        "import numpy as np\n",
        "\n",
        "#https://stackoverflow.com/questions/44650888/resize-an-image-without-distortion-opencv\n",
        "def scale_img_to_sqaure(img_abs_path, square_size):\n",
        "\n",
        "  image = np.asarray(imread(img_abs_path))/255.0\n",
        "  file_name = img_abs_path.split('/')[-1]\n",
        "\n",
        "  height, width = image.shape    \n",
        "  if(height > width):\n",
        "    differ = height\n",
        "  else:\n",
        "    differ = width\n",
        "  differ += 4\n",
        "\n",
        "  # square filler\n",
        "  mask = np.zeros((differ, differ), dtype = \"float64\")\n",
        "\n",
        "  x_pos = int((differ - width) / 2.0)\n",
        "  y_pos = int((differ - height) / 2.0)\n",
        "\n",
        "  # center image inside the square\n",
        "  mask[y_pos: y_pos + height, x_pos: x_pos + width] = image[0: height, 0: width]\n",
        "\n",
        "  # downscale if needed\n",
        "  if differ / square_size > 1:\n",
        "    mask = pyramid_reduce(mask, differ / square_size)\n",
        "  else:\n",
        "    mask = cv2.resize(mask, (square_size, square_size), interpolation = cv2.INTER_AREA)\n",
        "  imsave(file_name,mask)\n",
        "  return mask  \n",
        "\n",
        "# sq = scale_img_to_sqaure('/content/datalab/img/S052_004_00000033.png',96)"
      ],
      "execution_count": 0,
      "outputs": []
    },
    {
      "metadata": {
        "id": "2L6tR5ELcE78",
        "colab_type": "code",
        "colab": {
          "base_uri": "https://localhost:8080/",
          "height": 360
        },
        "outputId": "a22a67d2-ea4b-4f94-849b-206c3b83b8f8"
      },
      "cell_type": "code",
      "source": [
        "#https://www.bytefish.de/blog/local_binary_patterns/\n",
        "#http://scikit-image.org/docs/dev/auto_examples/features_detection/plot_local_binary_pattern.html\n",
        "from skimage.transform import rotate\n",
        "from skimage.feature import local_binary_pattern\n",
        "from skimage import data\n",
        "from skimage.color import label2rgb\n",
        "import numpy as np\n",
        "import matplotlib.pyplot as plt\n",
        "\n",
        "\n",
        "METHOD = 'uniform'\n",
        "plt.rcParams['font.size'] = 9\n",
        "\n",
        "# settings for LBP\n",
        "radius = 3\n",
        "n_points = 8 * radius\n",
        "\n",
        "\n",
        "def overlay_labels(image, lbp, labels):\n",
        "    mask = np.logical_or.reduce([lbp == each for each in labels])\n",
        "    return label2rgb(mask, image=image, bg_label=0, alpha=0.5)\n",
        "\n",
        "\n",
        "def highlight_bars(bars, indexes):\n",
        "    for i in indexes:\n",
        "        bars[i].set_facecolor('r')\n",
        "\n",
        "\n",
        "image = data.load('/content/datalab/img/S052_004_00000033.png')\n",
        "lbp = local_binary_pattern(image, n_points, radius, METHOD)\n",
        "\n",
        "\n",
        "def hist(ax, lbp):\n",
        "    n_bins = int(lbp.max() + 1)\n",
        "    return ax.hist(lbp.ravel(), normed=True, bins=n_bins, range=(0, n_bins),\n",
        "                   facecolor='0.5')\n",
        "\n",
        "\n",
        "# plot histograms of LBP of textures\n",
        "fig, (ax_img, ax_hist) = plt.subplots(nrows=2, ncols=3, figsize=(9, 6))\n",
        "plt.gray()\n",
        "\n",
        "titles = ('edge', 'flat', 'corner')\n",
        "w = width = radius - 1\n",
        "edge_labels = range(n_points // 2 - w, n_points // 2 + w + 1)\n",
        "flat_labels = list(range(0, w + 1)) + list(range(n_points - w, n_points + 2))\n",
        "i_14 = n_points // 4            # 1/4th of the histogram\n",
        "i_34 = 3 * (n_points // 4)      # 3/4th of the histogram\n",
        "corner_labels = (list(range(i_14 - w, i_14 + w + 1)) +\n",
        "                 list(range(i_34 - w, i_34 + w + 1)))\n",
        "\n",
        "label_sets = (edge_labels, flat_labels, corner_labels)\n",
        "\n",
        "for ax, labels in zip(ax_img, label_sets):\n",
        "    ax.imshow(overlay_labels(image, lbp, labels))\n",
        "\n",
        "for ax, labels, name in zip(ax_hist, label_sets, titles):\n",
        "    counts, _, bars = hist(ax, lbp)\n",
        "    highlight_bars(bars, labels)\n",
        "    ax.set_ylim(ymax=np.max(counts[:-1]))\n",
        "    ax.set_xlim(xmax=n_points + 2)\n",
        "    ax.set_title(name)\n",
        "\n",
        "ax_hist[0].set_ylabel('Percentage')\n",
        "for ax in ax_img:\n",
        "    ax.axis('off')"
      ],
      "execution_count": 28,
      "outputs": [
        {
          "output_type": "display_data",
          "data": {
            "image/png": "[encoded data removed]",
            "text/plain": [
              "<matplotlib.figure.Figure at 0x7f820577e1d0>"
            ]
          },
          "metadata": {
            "tags": []
          }
        }
      ]
    },
    {
      "metadata": {
        "id": "_Vu1sQ_cE--H",
        "colab_type": "code",
        "colab": {
          "base_uri": "https://localhost:8080/",
          "height": 818
        },
        "outputId": "58fe8d70-f56f-4b2a-9e1d-0425683c5d20"
      },
      "cell_type": "code",
      "source": [
        "import os\n",
        "import csv \n",
        "from skimage import data\n",
        "import numpy as np\n",
        "from skimage.io import imsave, imshow\n",
        "from matplotlib import pyplot as plt\n",
        "from sklearn import svm, metrics\n",
        "\n",
        "def get_au_label(csvfile, imgfile):\n",
        "  \n",
        "  with open(csvfile, 'r') as f:\n",
        "    r = csv.reader(f, delimiter=' ', quotechar='|')\n",
        "    for row in r:\n",
        "      if imgfile in row[0]:\n",
        "        #print ', '.join(row)\n",
        "        name,value=row[0].split(',')\n",
        "        return int(value)\n",
        "      \n",
        "def get_lbp(img_path):\n",
        "\n",
        "  # settings for LBP\n",
        "  radius = 3\n",
        "  n_points = 8 * radius\n",
        "  METHOD = 'uniform'\n",
        "\n",
        "  image = data.load(img_path)\n",
        "  return local_binary_pattern(image, n_points, radius, METHOD)\n",
        "\n",
        "def img_to_vector(path):\n",
        "  \n",
        "  X_train = np.ndarray(shape=(len(os.listdir(path)), 128, 128), dtype=np.float64)\n",
        "  Y_train = np.ndarray(shape=len(os.listdir(path)),dtype=np.float16)\n",
        "  i=0\n",
        "  for img in os.listdir(path):\n",
        "    s,t = img.split('.')  \n",
        "  #   print(img,get_au_label('au4_svm.csv',s))\n",
        "    Y_train[i] = get_au_label('au4_svm.csv',s)\n",
        "    sq_img = scale_img_to_sqaure(path+str(img), 128)\n",
        "    X_train[i] = get_lbp('/content/'+str(img))\n",
        "    i += 1\n",
        "  return X_train,Y_train\n",
        "\n",
        "def train_svc(X, y, x_test):\n",
        "  \n",
        "#   X = [[0, 0], [1, 1]]\n",
        "#   y = [0, 1]\n",
        "  clf = svm.SVC()\n",
        "  clf.fit(X, y)  \n",
        "#   http://scikit-learn.org/stable/modules/generated/sklearn.svm.SVC.html#sklearn.svm.SVC\n",
        "  svm.SVC(C=1.0, cache_size=200, class_weight=None, coef0=0.0, decision_function_shape='ovr', degree=3, gamma='auto', kernel='rbf', max_iter=-1, probability=False, \n",
        "      random_state=None, shrinking=True, tol=0.001, verbose=False)\n",
        "  return clf\n",
        "\n",
        "X_train, Y_train = img_to_vector(\"/content/datalab/img/\")\n",
        "print(X_train.shape)\n",
        "print(Y_train.shape)\n",
        "a = imshow(X_train[301])\n",
        "plt.show(a)\n",
        "\n",
        "#Flatten the image vectors for SVM classifier \n",
        "# - https://stackoverflow.com/questions/33162871/python-scikit-learn-svm-classifier-valueerror-found-array-with-dim-3-expected/35005672\n",
        "# - https://www.kaggle.com/halien/simple-image-classifer-with-svm\n",
        "X = X_train[0:270,:,:].reshape(270,-1)\n",
        "y = Y_train[0:270,]\n",
        "x_test = X_train[271:,:,:].reshape(38,-1)\n",
        "\n",
        "classifier = train_svc(X, y, x_test)\n",
        "y_pred = classifier.predict(x_test)\n",
        "y_test = Y_train[271:,]\n",
        "\n",
        "print(\"Classification report for classifier %s:\\n%s\\n\"\n",
        "      % (classifier, metrics.classification_report(y_test, y_pred)))\n",
        "print(\"Confusion matrix:\\n%s\" % metrics.confusion_matrix(y_test, y_pred))"
      ],
      "execution_count": 75,
      "outputs": [
        {
          "output_type": "stream",
          "text": [
            "/usr/local/lib/python3.6/dist-packages/skimage/util/dtype.py:122: UserWarning: Possible precision loss when converting from float64 to uint16\n",
            "  .format(dtypeobj_in, dtypeobj_out))\n"
          ],
          "name": "stderr"
        },
        {
          "output_type": "stream",
          "text": [
            "(309, 128, 128)\n",
            "(309,)\n"
          ],
          "name": "stdout"
        },
        {
          "output_type": "stream",
          "text": [
            "/usr/local/lib/python3.6/dist-packages/skimage/io/_plugins/matplotlib_plugin.py:51: FutureWarning: Conversion of the second argument of issubdtype from `float` to `np.floating` is deprecated. In future, it will be treated as `np.float64 == np.dtype(float).type`.\n",
            "  out_of_range_float = (np.issubdtype(image.dtype, np.float) and\n",
            "/usr/local/lib/python3.6/dist-packages/skimage/io/_plugins/matplotlib_plugin.py:77: UserWarning: Float image out of standard range; displaying image with stretched contrast.\n",
            "  warn(\"Float image out of standard range; displaying \"\n"
          ],
          "name": "stderr"
        },
        {
          "output_type": "display_data",
          "data": {
            "image/png": "[encoded data removed]",
            "text/plain": [
              "<matplotlib.figure.Figure at 0x7f81fd7c14a8>"
            ]
          },
          "metadata": {
            "tags": []
          }
        },
        {
          "output_type": "stream",
          "text": [
            "Classification report for classifier SVC(C=1.0, cache_size=200, class_weight=None, coef0=0.0,\n",
            "  decision_function_shape='ovr', degree=3, gamma='auto', kernel='rbf',\n",
            "  max_iter=-1, probability=False, random_state=None, shrinking=True,\n",
            "  tol=0.001, verbose=False):\n",
            "             precision    recall  f1-score   support\n",
            "\n",
            "        0.0       0.45      0.88      0.60        17\n",
            "        1.0       0.60      0.14      0.23        21\n",
            "\n",
            "avg / total       0.53      0.47      0.40        38\n",
            "\n",
            "\n",
            "Confusion matrix:\n",
            "[[15  2]\n",
            " [18  3]]\n"
          ],
          "name": "stdout"
        }
      ]
    }
  ]
}